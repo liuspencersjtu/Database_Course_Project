{
 "cells": [
  {
   "cell_type": "code",
   "execution_count": 2,
   "metadata": {},
   "outputs": [],
   "source": [
    "## FD = {(a,b):(c,d,e),(c,a)}\n",
    "from itertools import combinations\n",
    "def findCandidate(R, FD):\n",
    "    for k in range(len(R)):\n",
    "        res = set()\n",
    "        for it in combinations(R,k):\n",
    "            tmp = set(it)\n",
    "            for i in range(10):\n",
    "                for lhs in FD:\n",
    "                    if check(lhs, tmp):\n",
    "                        tmp.update(FD[lhs])\n",
    "            if len(tmp)==len(R):\n",
    "                res.add(tuple(it))\n",
    "        if len(res)!=0:\n",
    "            return res\n",
    "    raise BaseException\n",
    "\n",
    "def check(A,R):\n",
    "    for it in A:\n",
    "        if it not in R:\n",
    "            return False\n",
    "    return True"
   ]
  },
  {
   "cell_type": "code",
   "execution_count": 3,
   "metadata": {},
   "outputs": [],
   "source": [
    "R=['a','b','c','d','e']\n",
    "FD = {'a':'c','b':'d','c':'e','e':'a'}\n",
    "res = findCandidate(R,FD)"
   ]
  },
  {
   "cell_type": "code",
   "execution_count": 4,
   "metadata": {},
   "outputs": [
    {
     "data": {
      "text/plain": [
       "{('a', 'b'), ('b', 'c'), ('b', 'e')}"
      ]
     },
     "execution_count": 4,
     "metadata": {},
     "output_type": "execute_result"
    }
   ],
   "source": [
    "res"
   ]
  }
 ],
 "metadata": {
  "kernelspec": {
   "display_name": "Python 3",
   "language": "python",
   "name": "python3"
  },
  "language_info": {
   "codemirror_mode": {
    "name": "ipython",
    "version": 3
   },
   "file_extension": ".py",
   "mimetype": "text/x-python",
   "name": "python",
   "nbconvert_exporter": "python",
   "pygments_lexer": "ipython3",
   "version": "3.6.5"
  }
 },
 "nbformat": 4,
 "nbformat_minor": 2
}
