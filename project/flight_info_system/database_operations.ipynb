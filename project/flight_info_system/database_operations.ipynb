{
 "cells": [
  {
   "cell_type": "code",
   "execution_count": 1,
   "metadata": {},
   "outputs": [],
   "source": [
    "import sqlite3"
   ]
  },
  {
   "cell_type": "code",
   "execution_count": 2,
   "metadata": {},
   "outputs": [],
   "source": [
    "conn = sqlite3.connect('db.sqlite3')"
   ]
  },
  {
   "cell_type": "code",
   "execution_count": 3,
   "metadata": {},
   "outputs": [],
   "source": [
    "conn = sqlite3.connect('db.sqlite3')"
   ]
  },
  {
   "cell_type": "code",
   "execution_count": 4,
   "metadata": {},
   "outputs": [
    {
     "data": {
      "text/plain": [
       "<sqlite3.Cursor at 0x10318d650>"
      ]
     },
     "execution_count": 4,
     "metadata": {},
     "output_type": "execute_result"
    }
   ],
   "source": [
    "cursor.execute('create table flight_info (flight_no varchar(20) primary key, destination varchar(20), leaving_date date, boarding_time time, terminal varchar(20), number_of_passengers int, status varchar(20))')"
   ]
  },
  {
   "cell_type": "code",
   "execution_count": 12,
   "metadata": {},
   "outputs": [
    {
     "data": {
      "text/plain": [
       "<sqlite3.Cursor at 0x10318d650>"
      ]
     },
     "execution_count": 12,
     "metadata": {},
     "output_type": "execute_result"
    }
   ],
   "source": [
    "cursor.execute('insert into flight_info (flight_no, destination, leaving_date, boarding_time, terminal, number_of_passengers, status) values(\\'UA203\\', \\'Seattle\\', \\'2018-05-15\\', \\'12:30:00\\', \\'T1-A1\\', 500, \\'On Time\\' )')"
   ]
  },
  {
   "cell_type": "code",
   "execution_count": 13,
   "metadata": {},
   "outputs": [
    {
     "data": {
      "text/plain": [
       "1"
      ]
     },
     "execution_count": 13,
     "metadata": {},
     "output_type": "execute_result"
    }
   ],
   "source": [
    "cursor.rowcount"
   ]
  },
  {
   "cell_type": "code",
   "execution_count": 14,
   "metadata": {},
   "outputs": [
    {
     "data": {
      "text/plain": [
       "[('UA203', 'Seattle', '2018-05-15', '12:30:00', 'T1-A1', 500, 'On Time')]"
      ]
     },
     "execution_count": 14,
     "metadata": {},
     "output_type": "execute_result"
    }
   ],
   "source": [
    "cursor.execute('select * from flight_info')\n",
    "values = cursor.fetchall()\n",
    "values"
   ]
  },
  {
   "cell_type": "code",
   "execution_count": 9,
   "metadata": {},
   "outputs": [
    {
     "data": {
      "text/plain": [
       "<sqlite3.Cursor at 0x10318d650>"
      ]
     },
     "execution_count": 9,
     "metadata": {},
     "output_type": "execute_result"
    }
   ],
   "source": [
    "cursor.execute('delete from flight_info where flight_no = \\'UA203\\' ')"
   ]
  },
  {
   "cell_type": "code",
   "execution_count": 10,
   "metadata": {},
   "outputs": [
    {
     "data": {
      "text/plain": [
       "1"
      ]
     },
     "execution_count": 10,
     "metadata": {},
     "output_type": "execute_result"
    }
   ],
   "source": [
    "cursor.rowcount"
   ]
  },
  {
   "cell_type": "code",
   "execution_count": 15,
   "metadata": {},
   "outputs": [],
   "source": [
    "cursor.close()\n",
    "conn.commit()\n",
    "conn.close()"
   ]
  },
  {
   "cell_type": "code",
   "execution_count": 2,
   "metadata": {},
   "outputs": [],
   "source": [
    "conn = sqlite3.connect('db.sqlite3')\n",
    "cursor = conn.cursor()"
   ]
  },
  {
   "cell_type": "code",
   "execution_count": 9,
   "metadata": {},
   "outputs": [
    {
     "ename": "OperationalError",
     "evalue": "table aeroplane already exists",
     "output_type": "error",
     "traceback": [
      "\u001b[0;31m---------------------------------------------------------------------------\u001b[0m",
      "\u001b[0;31mOperationalError\u001b[0m                          Traceback (most recent call last)",
      "\u001b[0;32m<ipython-input-9-f2f95d840774>\u001b[0m in \u001b[0;36m<module>\u001b[0;34m()\u001b[0m\n\u001b[0;32m----> 1\u001b[0;31m \u001b[0mcursor\u001b[0m\u001b[0;34m.\u001b[0m\u001b[0mexecute\u001b[0m\u001b[0;34m(\u001b[0m\u001b[0;34m'create table aeroplane (plane_id varchar(20) primary key, plane_type varchar(20), max_volume int, company varchar(20))'\u001b[0m\u001b[0;34m)\u001b[0m\u001b[0;34m\u001b[0m\u001b[0m\n\u001b[0m",
      "\u001b[0;31mOperationalError\u001b[0m: table aeroplane already exists"
     ]
    }
   ],
   "source": [
    "cursor.execute('create table aeroplane (plane_id varchar(20) primary key, plane_type varchar(20), max_volume int, company varchar(20))')"
   ]
  },
  {
   "cell_type": "code",
   "execution_count": 5,
   "metadata": {},
   "outputs": [
    {
     "data": {
      "text/plain": [
       "<sqlite3.Cursor at 0x11130e810>"
      ]
     },
     "execution_count": 5,
     "metadata": {},
     "output_type": "execute_result"
    }
   ],
   "source": [
    "cursor.execute('insert into aeroplane (plane_id, plane_type, max_volume, company) values(\\'AB101\\', \\'Small\\', 100, \\'Airbus\\')')"
   ]
  },
  {
   "cell_type": "code",
   "execution_count": 6,
   "metadata": {},
   "outputs": [
    {
     "data": {
      "text/plain": [
       "<sqlite3.Cursor at 0x11130e810>"
      ]
     },
     "execution_count": 6,
     "metadata": {},
     "output_type": "execute_result"
    }
   ],
   "source": [
    "cursor.execute('insert into aeroplane (plane_id, plane_type, max_volume, company) values(\\'AB201\\', \\'Middle\\', 200, \\'Airbus\\')')"
   ]
  },
  {
   "cell_type": "code",
   "execution_count": 7,
   "metadata": {},
   "outputs": [
    {
     "data": {
      "text/plain": [
       "<sqlite3.Cursor at 0x11130e810>"
      ]
     },
     "execution_count": 7,
     "metadata": {},
     "output_type": "execute_result"
    }
   ],
   "source": [
    "cursor.execute('insert into aeroplane (plane_id, plane_type, max_volume, company) values(\\'AB301\\', \\'Big\\', 400, \\'Airbus\\')')"
   ]
  },
  {
   "cell_type": "code",
   "execution_count": 8,
   "metadata": {},
   "outputs": [
    {
     "data": {
      "text/plain": [
       "<sqlite3.Cursor at 0x11130e810>"
      ]
     },
     "execution_count": 8,
     "metadata": {},
     "output_type": "execute_result"
    }
   ],
   "source": [
    "cursor.execute('select * from aeroplane')"
   ]
  },
  {
   "cell_type": "code",
   "execution_count": 9,
   "metadata": {},
   "outputs": [
    {
     "data": {
      "text/plain": [
       "[('AB101', 'Small', 100, 'Airbus'),\n",
       " ('AB201', 'Middle', 200, 'Airbus'),\n",
       " ('AB301', 'Big', 400, 'Airbus')]"
      ]
     },
     "execution_count": 9,
     "metadata": {},
     "output_type": "execute_result"
    }
   ],
   "source": [
    "cursor.fetchall()"
   ]
  },
  {
   "cell_type": "code",
   "execution_count": 11,
   "metadata": {},
   "outputs": [
    {
     "data": {
      "text/plain": [
       "<sqlite3.Cursor at 0x11130e810>"
      ]
     },
     "execution_count": 11,
     "metadata": {},
     "output_type": "execute_result"
    }
   ],
   "source": [
    "cursor.execute('create table destination (airport_id varchar(20) primary key, city varchar(20), country varchar(20), state varchar(20), airport_name varchar(20))')"
   ]
  },
  {
   "cell_type": "code",
   "execution_count": 12,
   "metadata": {},
   "outputs": [
    {
     "data": {
      "text/plain": [
       "<sqlite3.Cursor at 0x11130e810>"
      ]
     },
     "execution_count": 12,
     "metadata": {},
     "output_type": "execute_result"
    }
   ],
   "source": [
    "cursor.execute('insert into destination (airport_id, city, country, state, airport_name) values(\\'NYC\\', \\'New York\\', \\'USA\\', \\'New York\\', \\'New York International Airport\\')')"
   ]
  },
  {
   "cell_type": "code",
   "execution_count": 13,
   "metadata": {},
   "outputs": [
    {
     "data": {
      "text/plain": [
       "<sqlite3.Cursor at 0x11130e810>"
      ]
     },
     "execution_count": 13,
     "metadata": {},
     "output_type": "execute_result"
    }
   ],
   "source": [
    "cursor.execute('insert into destination (airport_id, city, country, state, airport_name) values(\\'WAS\\', \\'Seattle\\', \\'USA\\', \\'Washington\\', \\'Seattle International Airport\\')')"
   ]
  },
  {
   "cell_type": "code",
   "execution_count": 14,
   "metadata": {},
   "outputs": [
    {
     "data": {
      "text/plain": [
       "<sqlite3.Cursor at 0x11130e810>"
      ]
     },
     "execution_count": 14,
     "metadata": {},
     "output_type": "execute_result"
    }
   ],
   "source": [
    "cursor.execute('insert into destination (airport_id, city, country, state, airport_name) values(\\'BOS\\', \\'Boston\\', \\'USA\\', \\'Massachusetts\\', \\'Boston International Airport\\')')"
   ]
  },
  {
   "cell_type": "code",
   "execution_count": 15,
   "metadata": {},
   "outputs": [
    {
     "data": {
      "text/plain": [
       "<sqlite3.Cursor at 0x11130e810>"
      ]
     },
     "execution_count": 15,
     "metadata": {},
     "output_type": "execute_result"
    }
   ],
   "source": [
    "cursor.execute('insert into destination (airport_id, city, country, state, airport_name) values(\\'SAF\\', \\'San Francisco\\', \\'USA\\', \\'California\\', \\'San Francisco International Airport\\')')"
   ]
  },
  {
   "cell_type": "code",
   "execution_count": 16,
   "metadata": {},
   "outputs": [
    {
     "data": {
      "text/plain": [
       "<sqlite3.Cursor at 0x11130e810>"
      ]
     },
     "execution_count": 16,
     "metadata": {},
     "output_type": "execute_result"
    }
   ],
   "source": [
    "cursor.execute('insert into destination (airport_id, city, country, state, airport_name) values(\\'SDE\\', \\'San Diego\\', \\'USA\\', \\'California\\', \\'San Diego International Airport\\')')"
   ]
  },
  {
   "cell_type": "code",
   "execution_count": 17,
   "metadata": {},
   "outputs": [
    {
     "data": {
      "text/plain": [
       "[('NYC', 'New York', 'USA', 'New York', 'New York International Airport'),\n",
       " ('WAS', 'Seattle', 'USA', 'Washington', 'Seattle International Airport'),\n",
       " ('BOS', 'Boston', 'USA', 'Massachusetts', 'Boston International Airport'),\n",
       " ('SAF',\n",
       "  'San Francisco',\n",
       "  'USA',\n",
       "  'California',\n",
       "  'San Francisco International Airport'),\n",
       " ('SDE', 'San Diego', 'USA', 'California', 'San Diego International Airport')]"
      ]
     },
     "execution_count": 17,
     "metadata": {},
     "output_type": "execute_result"
    }
   ],
   "source": [
    "cursor.execute('select * from destination')\n",
    "cursor.fetchall()"
   ]
  },
  {
   "cell_type": "code",
   "execution_count": 19,
   "metadata": {},
   "outputs": [
    {
     "data": {
      "text/plain": [
       "<sqlite3.Cursor at 0x11130e810>"
      ]
     },
     "execution_count": 19,
     "metadata": {},
     "output_type": "execute_result"
    }
   ],
   "source": [
    "cursor.execute('create table passenger (id varchar(20), gender varchar(20), name varchar(20), seat_no, nationality varchar(20), flight_no varchar(20))')"
   ]
  },
  {
   "cell_type": "code",
   "execution_count": 20,
   "metadata": {},
   "outputs": [
    {
     "data": {
      "text/plain": [
       "<sqlite3.Cursor at 0x11130e810>"
      ]
     },
     "execution_count": 20,
     "metadata": {},
     "output_type": "execute_result"
    }
   ],
   "source": [
    "cursor.execute('drop table passenger')"
   ]
  },
  {
   "cell_type": "code",
   "execution_count": 21,
   "metadata": {},
   "outputs": [
    {
     "data": {
      "text/plain": [
       "<sqlite3.Cursor at 0x11130e810>"
      ]
     },
     "execution_count": 21,
     "metadata": {},
     "output_type": "execute_result"
    }
   ],
   "source": [
    "cursor.execute('create table passenger (id varchar(20), gender varchar(20), name varchar(20), seat_no, nationality varchar(20), flight_no varchar(20))')"
   ]
  },
  {
   "cell_type": "code",
   "execution_count": 22,
   "metadata": {},
   "outputs": [
    {
     "data": {
      "text/plain": [
       "<sqlite3.Cursor at 0x11130e810>"
      ]
     },
     "execution_count": 22,
     "metadata": {},
     "output_type": "execute_result"
    }
   ],
   "source": [
    "cursor.execute(\"insert into passenger (id, gender, name, seat_no, nationality, flight_no) values ('001', 'male', 'David', 'A001', 'USA', 'QR203')\")"
   ]
  },
  {
   "cell_type": "code",
   "execution_count": 23,
   "metadata": {},
   "outputs": [
    {
     "data": {
      "text/plain": [
       "<sqlite3.Cursor at 0x11130e810>"
      ]
     },
     "execution_count": 23,
     "metadata": {},
     "output_type": "execute_result"
    }
   ],
   "source": [
    "cursor.execute(\"insert into passenger (id, gender, name, seat_no, nationality, flight_no) values ('002', 'female', 'Mia', 'A002', 'USA', 'QR203')\")\n",
    "cursor.execute(\"insert into passenger (id, gender, name, seat_no, nationality, flight_no) values ('003', 'female', 'Julia', 'A003', 'USA', 'QR303')\")\n",
    "cursor.execute(\"insert into passenger (id, gender, name, seat_no, nationality, flight_no) values ('004', 'male', 'Jack', 'A004', 'UK', 'QR303')\")\n",
    "cursor.execute(\"insert into passenger (id, gender, name, seat_no, nationality, flight_no) values ('005', 'female', 'Lily', 'A005', 'UK', 'QR303')\")\n",
    "cursor.execute(\"insert into passenger (id, gender, name, seat_no, nationality, flight_no) values ('006', 'male', 'Adam', 'A006', 'USA', 'QR203')\")\n",
    "cursor.execute(\"insert into passenger (id, gender, name, seat_no, nationality, flight_no) values ('007', 'female', 'Andria', 'A007', 'USA', 'QR203')\")\n",
    "cursor.execute(\"insert into passenger (id, gender, name, seat_no, nationality, flight_no) values ('008', 'male', 'Kim', 'A008', 'UK', 'QR203')\")"
   ]
  },
  {
   "cell_type": "code",
   "execution_count": 24,
   "metadata": {},
   "outputs": [
    {
     "data": {
      "text/plain": [
       "[('UK', 3), ('USA', 5)]"
      ]
     },
     "execution_count": 24,
     "metadata": {},
     "output_type": "execute_result"
    }
   ],
   "source": [
    "cursor.execute(\"select nationality, count(id) from passenger group by nationality;\")\n",
    "cursor.fetchall()"
   ]
  },
  {
   "cell_type": "code",
   "execution_count": 28,
   "metadata": {},
   "outputs": [],
   "source": [
    "cursor.close()\n",
    "conn.commit()\n",
    "conn.close()"
   ]
  },
  {
   "cell_type": "code",
   "execution_count": 29,
   "metadata": {},
   "outputs": [],
   "source": [
    "conn = sqlite3.connect('db.sqlite3')\n",
    "cursor = conn.cursor()"
   ]
  },
  {
   "cell_type": "code",
   "execution_count": 27,
   "metadata": {},
   "outputs": [
    {
     "data": {
      "text/plain": [
       "<sqlite3.Cursor at 0x1113c1f10>"
      ]
     },
     "execution_count": 27,
     "metadata": {},
     "output_type": "execute_result"
    }
   ],
   "source": [
    "cursor.execute(\"update flight_info set status = 'Delayed' where flight_no = 'CN725'\")"
   ]
  },
  {
   "cell_type": "code",
   "execution_count": 35,
   "metadata": {},
   "outputs": [
    {
     "data": {
      "text/plain": [
       "<sqlite3.Cursor at 0x1113de0a0>"
      ]
     },
     "execution_count": 35,
     "metadata": {},
     "output_type": "execute_result"
    }
   ],
   "source": [
    "cursor.execute(\"select id, gender, name, seat_no, nationality, passenger.flight_no, destination, leaving_date, boarding_time, terminal from passenger left join flight_info on passenger.flight_no = flight_info.flight_no\")"
   ]
  },
  {
   "cell_type": "code",
   "execution_count": 36,
   "metadata": {},
   "outputs": [
    {
     "data": {
      "text/plain": [
       "[('001',\n",
       "  'male',\n",
       "  'David',\n",
       "  'A001',\n",
       "  'USA',\n",
       "  'QR203',\n",
       "  'New York',\n",
       "  '2019-04-24',\n",
       "  '11:30:00',\n",
       "  'T1-A1'),\n",
       " ('002',\n",
       "  'female',\n",
       "  'Mia',\n",
       "  'A002',\n",
       "  'USA',\n",
       "  'QR203',\n",
       "  'New York',\n",
       "  '2019-04-24',\n",
       "  '11:30:00',\n",
       "  'T1-A1'),\n",
       " ('003', 'female', 'Julia', 'A003', 'USA', 'QR303', None, None, None, None),\n",
       " ('004', 'male', 'Jack', 'A004', 'UK', 'QR303', None, None, None, None),\n",
       " ('005', 'female', 'Lily', 'A005', 'UK', 'QR303', None, None, None, None),\n",
       " ('006',\n",
       "  'male',\n",
       "  'Adam',\n",
       "  'A006',\n",
       "  'USA',\n",
       "  'QR203',\n",
       "  'New York',\n",
       "  '2019-04-24',\n",
       "  '11:30:00',\n",
       "  'T1-A1'),\n",
       " ('007',\n",
       "  'female',\n",
       "  'Andria',\n",
       "  'A007',\n",
       "  'USA',\n",
       "  'QR203',\n",
       "  'New York',\n",
       "  '2019-04-24',\n",
       "  '11:30:00',\n",
       "  'T1-A1'),\n",
       " ('008',\n",
       "  'male',\n",
       "  'Kim',\n",
       "  'A008',\n",
       "  'UK',\n",
       "  'QR203',\n",
       "  'New York',\n",
       "  '2019-04-24',\n",
       "  '11:30:00',\n",
       "  'T1-A1')]"
      ]
     },
     "execution_count": 36,
     "metadata": {},
     "output_type": "execute_result"
    }
   ],
   "source": [
    "cursor.fetchall()"
   ]
  },
  {
   "cell_type": "code",
   "execution_count": 34,
   "metadata": {},
   "outputs": [
    {
     "data": {
      "text/plain": [
       "[('UA203', 'Seattle', '2018-05-15', '12:30:00', 'T1-A1', 500, 'On Time'),\n",
       " ('QR103', 'Seattle', '2019-05-21', '12:30:00', 'T2-B2', 300, 'Canceled'),\n",
       " ('QR106', 'Seattle', '2019-05-22', '10:30:00', 'T2-B2', 300, 'On Time'),\n",
       " ('UA303', 'San Francisco', '2019-05-12', '14:30:00', 'T2-C1', 350, 'On Time'),\n",
       " ('UA308', 'New York', '2019-05-13', '09:30:00', 'T1-C3', 350, 'On Time'),\n",
       " ('UA420', 'New York', '2019-05-16', '08:30:00', 'T2-A2', 300, 'On Time'),\n",
       " ('CN825', 'Boston', '2019-05-03', '17:30:00', 'T2-B3', 300, 'Canceled'),\n",
       " ('CN725', 'Seattle', '2019-05-04', '16:30:00', 'T2-B1', 300, 'Delayed'),\n",
       " ('QR125', 'San Diego', '2019-05-30', '16:30:00', 'T2-C1', 250, 'On Time'),\n",
       " ('CN925', 'New York', '2019-05-29', '12:30:00', 'T2-C3', 250, 'On Time'),\n",
       " ('QR825', 'London', '2019-05-18', '11:30:00', 'T1-C3', 300, 'On Time'),\n",
       " ('QR203', 'New York', '2019-04-24', '11:30:00', 'T1-A1', 300, 'On Time')]"
      ]
     },
     "execution_count": 34,
     "metadata": {},
     "output_type": "execute_result"
    }
   ],
   "source": [
    "cursor.execute(\"select * from flight_info\")\n",
    "cursor.fetchall()"
   ]
  },
  {
   "cell_type": "code",
   "execution_count": null,
   "metadata": {},
   "outputs": [],
   "source": []
  },
  {
   "cell_type": "code",
   "execution_count": null,
   "metadata": {},
   "outputs": [],
   "source": []
  },
  {
   "cell_type": "code",
   "execution_count": null,
   "metadata": {},
   "outputs": [],
   "source": []
  },
  {
   "cell_type": "code",
   "execution_count": null,
   "metadata": {},
   "outputs": [],
   "source": []
  },
  {
   "cell_type": "code",
   "execution_count": null,
   "metadata": {},
   "outputs": [],
   "source": []
  },
  {
   "cell_type": "code",
   "execution_count": null,
   "metadata": {},
   "outputs": [],
   "source": []
  },
  {
   "cell_type": "code",
   "execution_count": null,
   "metadata": {},
   "outputs": [],
   "source": []
  },
  {
   "cell_type": "code",
   "execution_count": null,
   "metadata": {},
   "outputs": [],
   "source": []
  },
  {
   "cell_type": "code",
   "execution_count": null,
   "metadata": {},
   "outputs": [],
   "source": []
  },
  {
   "cell_type": "code",
   "execution_count": null,
   "metadata": {},
   "outputs": [],
   "source": []
  },
  {
   "cell_type": "code",
   "execution_count": null,
   "metadata": {},
   "outputs": [],
   "source": []
  },
  {
   "cell_type": "code",
   "execution_count": null,
   "metadata": {},
   "outputs": [],
   "source": []
  },
  {
   "cell_type": "code",
   "execution_count": null,
   "metadata": {},
   "outputs": [],
   "source": []
  },
  {
   "cell_type": "code",
   "execution_count": null,
   "metadata": {},
   "outputs": [],
   "source": []
  },
  {
   "cell_type": "code",
   "execution_count": null,
   "metadata": {},
   "outputs": [],
   "source": []
  },
  {
   "cell_type": "code",
   "execution_count": 12,
   "metadata": {},
   "outputs": [],
   "source": [
    "conn = sqlite3.connect('db.sqlite3')\n",
    "cursor = conn.cursor()"
   ]
  },
  {
   "cell_type": "code",
   "execution_count": 7,
   "metadata": {},
   "outputs": [
    {
     "data": {
      "text/plain": [
       "[('UA203', 'Seattle', '2018-05-15', '12:30:00', 'T1-A1', 500, 'On Time'),\n",
       " ('QR103', 'Seattle', '2019-05-21', '12:30:00', 'T2-B2', 300, 'Canceled'),\n",
       " ('QR106', 'Seattle', '2019-05-22', '10:30:00', 'T2-B2', 300, 'On Time'),\n",
       " ('UA303', 'San Francisco', '2019-05-12', '14:30:00', 'T2-C1', 350, 'On Time'),\n",
       " ('UA308', 'New York', '2019-05-13', '09:30:00', 'T1-C3', 350, 'On Time'),\n",
       " ('UA420', 'New York', '2019-05-16', '08:30:00', 'T2-A2', 300, 'On Time'),\n",
       " ('CN825', 'Boston', '2019-05-03', '17:30:00', 'T2-B3', 300, 'Canceled'),\n",
       " ('CN725', 'Seattle', '2019-05-04', '16:30:00', 'T2-B1', 300, 'Delayed'),\n",
       " ('QR125', 'San Diego', '2019-05-30', '16:30:00', 'T2-C1', 250, 'On Time'),\n",
       " ('CN925', 'New York', '2019-05-29', '12:30:00', 'T2-C3', 250, 'On Time'),\n",
       " ('QR825', 'London', '2019-05-18', '11:30:00', 'T1-C3', 300, 'On Time'),\n",
       " ('QR203', 'New York', '2019-04-24', '11:30:00', 'T1-A1', 300, 'On Time'),\n",
       " ('QR303', 'Boston', '2019-04-21', '12:00:00', 'T1-A1', 200, 'Canceled'),\n",
       " ('UA008', 'New York', '2019-05-12', '12:00:00', 'T1-A1', 200, 'Delayed')]"
      ]
     },
     "execution_count": 7,
     "metadata": {},
     "output_type": "execute_result"
    }
   ],
   "source": [
    "cursor.execute(\"select * from flight_info\")\n",
    "cursor.fetchall()"
   ]
  },
  {
   "cell_type": "code",
   "execution_count": 8,
   "metadata": {},
   "outputs": [
    {
     "data": {
      "text/plain": [
       "[('UK', 3), ('USA', 5)]"
      ]
     },
     "execution_count": 8,
     "metadata": {},
     "output_type": "execute_result"
    }
   ],
   "source": [
    "cursor.execute(\"select nationality, count(id) from passenger group by nationality;\")\n",
    "cursor.fetchall()"
   ]
  },
  {
   "cell_type": "code",
   "execution_count": 9,
   "metadata": {},
   "outputs": [
    {
     "data": {
      "text/plain": [
       "[('001',\n",
       "  'male',\n",
       "  'David',\n",
       "  'A001',\n",
       "  'USA',\n",
       "  'QR203',\n",
       "  'New York',\n",
       "  '2019-04-24',\n",
       "  '11:30:00',\n",
       "  'T1-A1'),\n",
       " ('002',\n",
       "  'female',\n",
       "  'Mia',\n",
       "  'A002',\n",
       "  'USA',\n",
       "  'QR203',\n",
       "  'New York',\n",
       "  '2019-04-24',\n",
       "  '11:30:00',\n",
       "  'T1-A1'),\n",
       " ('003',\n",
       "  'female',\n",
       "  'Julia',\n",
       "  'A003',\n",
       "  'USA',\n",
       "  'QR303',\n",
       "  'Boston',\n",
       "  '2019-04-21',\n",
       "  '12:00:00',\n",
       "  'T1-A1'),\n",
       " ('004',\n",
       "  'male',\n",
       "  'Jack',\n",
       "  'A004',\n",
       "  'UK',\n",
       "  'QR303',\n",
       "  'Boston',\n",
       "  '2019-04-21',\n",
       "  '12:00:00',\n",
       "  'T1-A1'),\n",
       " ('005',\n",
       "  'female',\n",
       "  'Lily',\n",
       "  'A005',\n",
       "  'UK',\n",
       "  'QR303',\n",
       "  'Boston',\n",
       "  '2019-04-21',\n",
       "  '12:00:00',\n",
       "  'T1-A1'),\n",
       " ('006',\n",
       "  'male',\n",
       "  'Adam',\n",
       "  'A006',\n",
       "  'USA',\n",
       "  'QR203',\n",
       "  'New York',\n",
       "  '2019-04-24',\n",
       "  '11:30:00',\n",
       "  'T1-A1'),\n",
       " ('007',\n",
       "  'female',\n",
       "  'Andria',\n",
       "  'A007',\n",
       "  'USA',\n",
       "  'QR203',\n",
       "  'New York',\n",
       "  '2019-04-24',\n",
       "  '11:30:00',\n",
       "  'T1-A1'),\n",
       " ('008',\n",
       "  'male',\n",
       "  'Kim',\n",
       "  'A008',\n",
       "  'UK',\n",
       "  'QR203',\n",
       "  'New York',\n",
       "  '2019-04-24',\n",
       "  '11:30:00',\n",
       "  'T1-A1')]"
      ]
     },
     "execution_count": 9,
     "metadata": {},
     "output_type": "execute_result"
    }
   ],
   "source": [
    "cursor.execute(\"select id, gender, name, seat_no, nationality, passenger.flight_no, destination, leaving_date, boarding_time, terminal from passenger left join flight_info on passenger.flight_no = flight_info.flight_no\")\n",
    "cursor.fetchall()"
   ]
  },
  {
   "cell_type": "code",
   "execution_count": 13,
   "metadata": {},
   "outputs": [
    {
     "data": {
      "text/plain": [
       "<sqlite3.Cursor at 0x10dcb7b20>"
      ]
     },
     "execution_count": 13,
     "metadata": {},
     "output_type": "execute_result"
    }
   ],
   "source": [
    "cursor.execute(\"update flight_info set status = 'Delayed' where flight_no = 'CN725'\")"
   ]
  },
  {
   "cell_type": "code",
   "execution_count": 14,
   "metadata": {},
   "outputs": [],
   "source": [
    "cursor.close()\n",
    "conn.commit()\n",
    "conn.close()"
   ]
  }
 ],
 "metadata": {
  "kernelspec": {
   "display_name": "Python 3",
   "language": "python",
   "name": "python3"
  },
  "language_info": {
   "codemirror_mode": {
    "name": "ipython",
    "version": 3
   },
   "file_extension": ".py",
   "mimetype": "text/x-python",
   "name": "python",
   "nbconvert_exporter": "python",
   "pygments_lexer": "ipython3",
   "version": "3.6.5"
  }
 },
 "nbformat": 4,
 "nbformat_minor": 2
}
